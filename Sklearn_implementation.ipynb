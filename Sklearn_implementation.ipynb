{
 "cells": [
  {
   "cell_type": "code",
   "execution_count": 3,
   "metadata": {},
   "outputs": [],
   "source": [
    "import pandas as pd\n",
    "import numpy as np\n",
    "import seaborn as sns\n",
    "import matplotlib.pyplot as plt\n",
    "%matplotlib inline\n",
    "from numpy import genfromtxt"
   ]
  },
  {
   "cell_type": "code",
   "execution_count": 64,
   "metadata": {},
   "outputs": [],
   "source": [
    "plt.rcParams['figure.dpi'] = 150"
   ]
  },
  {
   "cell_type": "code",
   "execution_count": 51,
   "metadata": {},
   "outputs": [
    {
     "name": "stdout",
     "output_type": "stream",
     "text": [
      "MSE = 2306007735.741078\n",
      "RMSE=48020.909359789075\n",
      "theta0=340412.6595744681\n",
      "theta1=109447.79646964178\n",
      "theta2=-6578.354854161259\n"
     ]
    }
   ],
   "source": [
    "from sklearn.linear_model import LinearRegression\n",
    "from sklearn.preprocessing import StandardScaler\n",
    "\n",
    "# load the data\n",
    "dataPath = \"D:\\\\PhD Courses\\\\Machine Learning\\\\Assignments\\\\ML_Assignment_1\\\\Source code\\\\data\\\\multivariateData.dat\"\n",
    "file = open(dataPath,'r')\n",
    "allData = np.loadtxt(file, delimiter=',')\n",
    "\n",
    "X_train = np.array(allData[:,:-1])\n",
    "y_train = np.array((allData[:,-1]))\n",
    "\n",
    "filePath=\"D:\\\\PhD Courses\\\\Machine Learning\\\\Assignments\\\\ML_Assignment_1\\\\Source code\\\\data\\\\holdout.npz\"\n",
    "# load the data\n",
    "file = open(filePath, 'rb')\n",
    "allData = np.load(file)['arr_0']\n",
    "\n",
    "X_test = np.array(allData[:, :-1])\n",
    "y_test = np.array((allData[:, -1]))\n",
    "    \n",
    "scaler = StandardScaler()\n",
    "X_train = scaler.fit_transform(X_train)\n",
    "X_test = scaler.transform(X_test)\n",
    "\n",
    "model = LinearRegression()\n",
    "model.fit(X_train, y_train)\n",
    "\n",
    "y_prediction = model.predict(X_test)\n",
    "\n",
    "from sklearn.metrics import mean_squared_error\n",
    "MSE = mean_squared_error(y_test, y_prediction)\n",
    "RMSE = np.sqrt(MSE)\n",
    "print(f'MSE = {MSE}\\nRMSE={RMSE}')\n",
    "print(f'theta0={model.intercept_}\\ntheta1={model.coef_[0]}\\ntheta2={model.coef_[1]}')"
   ]
  }
 ],
 "metadata": {
  "kernelspec": {
   "display_name": "Python 3",
   "language": "python",
   "name": "python3"
  },
  "language_info": {
   "codemirror_mode": {
    "name": "ipython",
    "version": 3
   },
   "file_extension": ".py",
   "mimetype": "text/x-python",
   "name": "python",
   "nbconvert_exporter": "python",
   "pygments_lexer": "ipython3",
   "version": "3.8.3"
  }
 },
 "nbformat": 4,
 "nbformat_minor": 4
}
